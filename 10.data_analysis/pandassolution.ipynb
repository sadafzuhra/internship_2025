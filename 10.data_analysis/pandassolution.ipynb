{
 "cells": [
  {
   "cell_type": "markdown",
   "metadata": {},
   "source": [
    "# Module: Pandas Assignments\n",
    "## Lesson: Pandas\n",
    "### Assignment 1: DataFrame Creation and Indexing\n",
    "\n",
    "1. Create a Pandas DataFrame with 4 columns and 6 rows filled with random integers. Set the index to be the first column."
   ]
  },
  {
   "cell_type": "code",
   "execution_count": 1,
   "metadata": {},
   "outputs": [
    {
     "name": "stdout",
     "output_type": "stream",
     "text": [
      "Original DataFrame:\n",
      "    A   B   C   D\n",
      "0  17  36  45  85\n",
      "1   2  36  21  75\n",
      "2  34  56   5  29\n",
      "3  80  50  43  65\n",
      "4  27  10  44  74\n",
      "5  58  69   7  32\n",
      "DataFrame with new index:\n",
      "     B   C   D\n",
      "A             \n",
      "17  36  45  85\n",
      "2   36  21  75\n",
      "34  56   5  29\n",
      "80  50  43  65\n",
      "27  10  44  74\n",
      "58  69   7  32\n"
     ]
    }
   ],
   "source": [
    "import pandas as pd\n",
    "import numpy as np\n",
    "\n",
    "# Create a Pandas DataFrame with 4 columns and 6 rows filled with random integers\n",
    "df = pd.DataFrame(np.random.randint(1, 100, size=(6, 4)), columns=['A', 'B', 'C', 'D'])\n",
    "print(\"Original DataFrame:\")\n",
    "print(df)\n",
    "\n",
    "# Set the index to be the first column\n",
    "df.set_index('A', inplace=True)\n",
    "print(\"DataFrame with new index:\")\n",
    "print(df)"
   ]
  },
  {
   "cell_type": "markdown",
   "metadata": {},
   "source": [
    "2. Create a Pandas DataFrame with columns 'A', 'B', 'C' and index 'X', 'Y', 'Z'. Fill the DataFrame with random integers and access the element at row 'Y' and column 'B'."
   ]
  },
  {
   "cell_type": "code",
   "execution_count": 2,
   "metadata": {},
   "outputs": [
    {
     "name": "stdout",
     "output_type": "stream",
     "text": [
      "Original DataFrame:\n",
      "    A   B   C\n",
      "X  29  49  96\n",
      "Y  39  70  11\n",
      "Z  31  50   2\n",
      "Element at row 'Y' and column 'B': 70\n"
     ]
    }
   ],
   "source": [
    "# Create a Pandas DataFrame with specified columns and index\n",
    "df = pd.DataFrame(np.random.randint(1, 100, size=(3, 3)), columns=['A', 'B', 'C'], index=['X', 'Y', 'Z'])\n",
    "print(\"Original DataFrame:\")\n",
    "print(df)\n",
    "\n",
    "# Access the element at row 'Y' and column 'B'\n",
    "element = df.at['Y', 'B']\n",
    "print(\"Element at row 'Y' and column 'B':\", element)"
   ]
  },
  {
   "cell_type": "markdown",
   "metadata": {},
   "source": [
    "### Assignment 2: DataFrame Operations\n",
    "\n",
    "1. Create a Pandas DataFrame with 3 columns and 5 rows filled with random integers. Add a new column that is the product of the first two columns."
   ]
  },
  {
   "cell_type": "code",
   "execution_count": 3,
   "metadata": {},
   "outputs": [
    {
     "name": "stdout",
     "output_type": "stream",
     "text": [
      "Original DataFrame:\n",
      "    A   B   C\n",
      "0  55  49  86\n",
      "1  98  65   2\n",
      "2  26  24  97\n",
      "3  98  50  19\n",
      "4  80  34  78\n",
      "DataFrame with new column:\n",
      "    A   B   C     D\n",
      "0  55  49  86  2695\n",
      "1  98  65   2  6370\n",
      "2  26  24  97   624\n",
      "3  98  50  19  4900\n",
      "4  80  34  78  2720\n"
     ]
    }
   ],
   "source": [
    "# Create a Pandas DataFrame with 3 columns and 5 rows filled with random integers\n",
    "df = pd.DataFrame(np.random.randint(1, 100, size=(5, 3)), columns=['A', 'B', 'C'])\n",
    "print(\"Original DataFrame:\")\n",
    "print(df)\n",
    "\n",
    "# Add a new column that is the product of the first two columns\n",
    "df['D'] = df['A'] * df['B']\n",
    "print(\"DataFrame with new column:\")\n",
    "print(df)"
   ]
  },
  {
   "cell_type": "markdown",
   "metadata": {},
   "source": [
    "2. Create a Pandas DataFrame with 3 columns and 4 rows filled with random integers. Compute the row-wise and column-wise sum."
   ]
  },
  {
   "cell_type": "code",
   "execution_count": 4,
   "metadata": {},
   "outputs": [
    {
     "name": "stdout",
     "output_type": "stream",
     "text": [
      "Original DataFrame:\n",
      "    A   B   C\n",
      "0  31  21   8\n",
      "1  24  16  53\n",
      "2   7  67  80\n",
      "3  98  36  46\n",
      "Row-wise sum:\n",
      "0     60\n",
      "1     93\n",
      "2    154\n",
      "3    180\n",
      "dtype: int64\n",
      "Column-wise sum:\n",
      "A    160\n",
      "B    140\n",
      "C    187\n",
      "dtype: int64\n"
     ]
    }
   ],
   "source": [
    "# Create a Pandas DataFrame with 3 columns and 4 rows filled with random integers\n",
    "df = pd.DataFrame(np.random.randint(1, 100, size=(4, 3)), columns=['A', 'B', 'C'])\n",
    "print(\"Original DataFrame:\")\n",
    "print(df)\n",
    "\n",
    "# Compute the row-wise and column-wise sum\n",
    "row_sum = df.sum(axis=1)\n",
    "column_sum = df.sum(axis=0)\n",
    "\n",
    "print(\"Row-wise sum:\")\n",
    "print(row_sum)\n",
    "print(\"Column-wise sum:\")\n",
    "print(column_sum)"
   ]
  },
  {
   "cell_type": "markdown",
   "metadata": {},
   "source": [
    "### Assignment 3: Data Cleaning\n",
    "\n",
    "1. Create a Pandas DataFrame with 3 columns and 5 rows filled with random integers. Introduce some NaN values. Fill the NaN values with the mean of the respective columns."
   ]
  },
  {
   "cell_type": "code",
   "execution_count": 5,
   "metadata": {},
   "outputs": [
    {
     "name": "stdout",
     "output_type": "stream",
     "text": [
      "Original DataFrame:\n",
      "    A   B   C\n",
      "0  86  36  64\n",
      "1  29   5  84\n",
      "2  25  93  66\n",
      "3  18  88   9\n",
      "4  22  45  94\n",
      "DataFrame with NaN values:\n",
      "      A     B     C\n",
      "0  86.0   NaN  64.0\n",
      "1  29.0   5.0  84.0\n",
      "2  25.0  93.0   NaN\n",
      "3  18.0  88.0   9.0\n",
      "4   NaN  45.0  94.0\n",
      "DataFrame with NaN values filled:\n",
      "      A      B      C\n",
      "0  86.0  57.75  64.00\n",
      "1  29.0   5.00  84.00\n",
      "2  25.0  93.00  62.75\n",
      "3  18.0  88.00   9.00\n",
      "4  39.5  45.00  94.00\n"
     ]
    }
   ],
   "source": [
    "# Create a Pandas DataFrame with 3 columns and 5 rows filled with random integers\n",
    "df = pd.DataFrame(np.random.randint(1, 100, size=(5, 3)), columns=['A', 'B', 'C'])\n",
    "print(\"Original DataFrame:\")\n",
    "print(df)\n",
    "\n",
    "# Introduce some NaN values\n",
    "df.iloc[0, 1] = np.nan\n",
    "df.iloc[2, 2] = np.nan\n",
    "df.iloc[4, 0] = np.nan\n",
    "print(\"DataFrame with NaN values:\")\n",
    "print(df)\n",
    "\n",
    "# Fill the NaN values with the mean of the respective columns\n",
    "df.fillna(df.mean(), inplace=True)\n",
    "print(\"DataFrame with NaN values filled:\")\n",
    "print(df)"
   ]
  },
  {
   "cell_type": "markdown",
   "metadata": {},
   "source": [
    "2. Create a Pandas DataFrame with 4 columns and 6 rows filled with random integers. Introduce some NaN values. Drop the rows with any NaN values."
   ]
  },
  {
   "cell_type": "code",
   "execution_count": 6,
   "metadata": {},
   "outputs": [
    {
     "name": "stdout",
     "output_type": "stream",
     "text": [
      "Original DataFrame:\n",
      "    A   B   C   D\n",
      "0  87  19  55  53\n",
      "1  62  79  35  78\n",
      "2  75  10  43  36\n",
      "3  22  57  48  78\n",
      "4  89  27   4  63\n",
      "5  16  30  22  38\n",
      "DataFrame with NaN values:\n",
      "      A     B     C   D\n",
      "0  87.0  19.0  55.0  53\n",
      "1  62.0  79.0   NaN  78\n",
      "2  75.0  10.0  43.0  36\n",
      "3   NaN  57.0  48.0  78\n",
      "4  89.0  27.0   4.0  63\n",
      "5  16.0   NaN  22.0  38\n",
      "DataFrame with NaN values dropped:\n",
      "      A     B     C   D\n",
      "0  87.0  19.0  55.0  53\n",
      "2  75.0  10.0  43.0  36\n",
      "4  89.0  27.0   4.0  63\n"
     ]
    }
   ],
   "source": [
    "# Create a Pandas DataFrame with 4 columns and 6 rows filled with random integers\n",
    "df = pd.DataFrame(np.random.randint(1, 100, size=(6, 4)), columns=['A', 'B', 'C', 'D'])\n",
    "print(\"Original DataFrame:\")\n",
    "print(df)\n",
    "\n",
    "# Introduce some NaN values\n",
    "df.iloc[1, 2] = np.nan\n",
    "df.iloc[3, 0] = np.nan\n",
    "df.iloc[5, 1] = np.nan\n",
    "print(\"DataFrame with NaN values:\")\n",
    "print(df)\n",
    "\n",
    "# Drop the rows with any NaN values\n",
    "df.dropna(inplace=True)\n",
    "print(\"DataFrame with NaN values dropped:\")\n",
    "print(df)"
   ]
  },
  {
   "cell_type": "markdown",
   "metadata": {},
   "source": [
    "### Assignment 4: Data Aggregation\n",
    "\n",
    "1. Create a Pandas DataFrame with 2 columns: 'Category' and 'Value'. Fill the 'Category' column with random categories ('A', 'B', 'C') and the 'Value' column with random integers. Group the DataFrame by 'Category' and compute the sum and mean of 'Value' for each category."
   ]
  },
  {
   "cell_type": "code",
   "execution_count": 7,
   "metadata": {},
   "outputs": [
    {
     "name": "stdout",
     "output_type": "stream",
     "text": [
      "Original DataFrame:\n",
      "  Category  Value\n",
      "0        B     62\n",
      "1        A     59\n",
      "2        B     39\n",
      "3        A     12\n",
      "4        B     51\n",
      "5        C     60\n",
      "6        A     48\n",
      "7        B     29\n",
      "8        C     67\n",
      "9        B     30\n",
      "Grouped DataFrame:\n",
      "          sum       mean\n",
      "Category                \n",
      "A         119  39.666667\n",
      "B         211  42.200000\n",
      "C         127  63.500000\n"
     ]
    }
   ],
   "source": [
    "# Create a Pandas DataFrame with 2 columns: 'Category' and 'Value'\n",
    "df = pd.DataFrame({'Category': np.random.choice(['A', 'B', 'C'], size=10), 'Value': np.random.randint(1, 100, size=10)})\n",
    "print(\"Original DataFrame:\")\n",
    "print(df)\n",
    "\n",
    "# Group the DataFrame by 'Category' and compute the sum and mean of 'Value' for each category\n",
    "grouped = df.groupby('Category')['Value'].agg(['sum', 'mean'])\n",
    "print(\"Grouped DataFrame:\")\n",
    "print(grouped)"
   ]
  },
  {
   "cell_type": "markdown",
   "metadata": {},
   "source": [
    "2. Create a Pandas DataFrame with 3 columns: 'Product', 'Category', and 'Sales'. Fill the DataFrame with random data. Group the DataFrame by 'Category' and compute the total sales for each category."
   ]
  },
  {
   "cell_type": "code",
   "execution_count": 8,
   "metadata": {},
   "outputs": [
    {
     "name": "stdout",
     "output_type": "stream",
     "text": [
      "Original DataFrame:\n",
      "  Product Category  Sales\n",
      "0   Prod1        A     65\n",
      "1   Prod1        C     73\n",
      "2   Prod2        C     12\n",
      "3   Prod2        B     76\n",
      "4   Prod1        A     44\n",
      "5   Prod2        C     18\n",
      "6   Prod3        B     95\n",
      "7   Prod3        C     36\n",
      "8   Prod3        C     60\n",
      "9   Prod1        B     23\n",
      "Grouped DataFrame:\n",
      "Category\n",
      "A    109\n",
      "B    194\n",
      "C    199\n",
      "Name: Sales, dtype: int32\n"
     ]
    }
   ],
   "source": [
    "# Create a Pandas DataFrame with 3 columns: 'Product', 'Category', and 'Sales'\n",
    "df = pd.DataFrame({'Product': np.random.choice(['Prod1', 'Prod2', 'Prod3'], size=10), 'Category': np.random.choice(['A', 'B', 'C'], size=10), 'Sales': np.random.randint(1, 100, size=10)})\n",
    "print(\"Original DataFrame:\")\n",
    "print(df)\n",
    "\n",
    "# Group the DataFrame by 'Category' and compute the total sales for each category\n",
    "grouped = df.groupby('Category')['Sales'].sum()\n",
    "print(\"Grouped DataFrame:\")\n",
    "print(grouped)"
   ]
  },
  {
   "cell_type": "markdown",
   "metadata": {},
   "source": [
    "### Assignment 5: Merging DataFrames\n",
    "\n",
    "1. Create two Pandas DataFrames with a common column. Merge the DataFrames using the common column."
   ]
  },
  {
   "cell_type": "code",
   "execution_count": 9,
   "metadata": {},
   "outputs": [
    {
     "name": "stdout",
     "output_type": "stream",
     "text": [
      "DataFrame 1:\n",
      "  Key  Value1\n",
      "0   A      66\n",
      "1   B      82\n",
      "2   C      73\n",
      "3   D       5\n",
      "DataFrame 2:\n",
      "  Key  Value2\n",
      "0   A      86\n",
      "1   B      96\n",
      "2   C      39\n",
      "3   E      80\n",
      "Merged DataFrame:\n",
      "  Key  Value1  Value2\n",
      "0   A      66      86\n",
      "1   B      82      96\n",
      "2   C      73      39\n"
     ]
    }
   ],
   "source": [
    "# Create two Pandas DataFrames with a common column\n",
    "df1 = pd.DataFrame({'Key': ['A', 'B', 'C', 'D'], 'Value1': np.random.randint(1, 100, size=4)})\n",
    "df2 = pd.DataFrame({'Key': ['A', 'B', 'C', 'E'], 'Value2': np.random.randint(1, 100, size=4)})\n",
    "print(\"DataFrame 1:\")\n",
    "print(df1)\n",
    "print(\"DataFrame 2:\")\n",
    "print(df2)\n",
    "\n",
    "# Merge the DataFrames using the common column\n",
    "merged = pd.merge(df1, df2, on='Key')\n",
    "print(\"Merged DataFrame:\")\n",
    "print(merged)"
   ]
  },
  {
   "cell_type": "markdown",
   "metadata": {},
   "source": [
    "2. Create two Pandas DataFrames with different columns. Concatenate the DataFrames along the rows and along the columns."
   ]
  },
  {
   "cell_type": "code",
   "execution_count": 10,
   "metadata": {},
   "outputs": [
    {
     "name": "stdout",
     "output_type": "stream",
     "text": [
      "DataFrame 1:\n",
      "    A   B\n",
      "0   3  84\n",
      "1  26  38\n",
      "2  50  46\n",
      "DataFrame 2:\n",
      "    C   D\n",
      "0  38  36\n",
      "1  80  23\n",
      "2   6  38\n",
      "Concatenated DataFrame (rows):\n",
      "      A     B     C     D\n",
      "0   3.0  84.0   NaN   NaN\n",
      "1  26.0  38.0   NaN   NaN\n",
      "2  50.0  46.0   NaN   NaN\n",
      "0   NaN   NaN  38.0  36.0\n",
      "1   NaN   NaN  80.0  23.0\n",
      "2   NaN   NaN   6.0  38.0\n",
      "Concatenated DataFrame (columns):\n",
      "    A   B   C   D\n",
      "0   3  84  38  36\n",
      "1  26  38  80  23\n",
      "2  50  46   6  38\n"
     ]
    }
   ],
   "source": [
    "# Create two Pandas DataFrames with different columns\n",
    "df1 = pd.DataFrame({'A': np.random.randint(1, 100, size=3), 'B': np.random.randint(1, 100, size=3)})\n",
    "df2 = pd.DataFrame({'C': np.random.randint(1, 100, size=3), 'D': np.random.randint(1, 100, size=3)})\n",
    "print(\"DataFrame 1:\")\n",
    "print(df1)\n",
    "print(\"DataFrame 2:\")\n",
    "print(df2)\n",
    "\n",
    "# Concatenate the DataFrames along the rows\n",
    "concat_rows = pd.concat([df1, df2], axis=0)\n",
    "print(\"Concatenated DataFrame (rows):\")\n",
    "print(concat_rows)\n",
    "\n",
    "# Concatenate the DataFrames along the columns\n",
    "concat_columns = pd.concat([df1, df2], axis=1)\n",
    "print(\"Concatenated DataFrame (columns):\")\n",
    "print(concat_columns)"
   ]
  },
  {
   "cell_type": "markdown",
   "metadata": {},
   "source": [
    "### Assignment 6: Time Series Analysis\n",
    "\n",
    "1. Create a Pandas DataFrame with a datetime index and one column filled with random integers. Resample the DataFrame to compute the monthly mean of the values."
   ]
  },
  {
   "cell_type": "code",
   "execution_count": 11,
   "metadata": {},
   "outputs": [
    {
     "name": "stdout",
     "output_type": "stream",
     "text": [
      "Original DataFrame:\n",
      "            data\n",
      "date            \n",
      "2022-01-01    19\n",
      "2022-01-02    10\n",
      "2022-01-03    96\n",
      "2022-01-04    69\n",
      "2022-01-05    58\n",
      "...          ...\n",
      "2022-12-27    68\n",
      "2022-12-28    74\n",
      "2022-12-29    17\n",
      "2022-12-30    83\n",
      "2022-12-31    29\n",
      "\n",
      "[365 rows x 1 columns]\n",
      "Monthly mean DataFrame:\n",
      "                 data\n",
      "date                 \n",
      "2022-01-31  47.709677\n",
      "2022-02-28  56.035714\n",
      "2022-03-31  52.419355\n",
      "2022-04-30  46.966667\n",
      "2022-05-31  48.580645\n",
      "2022-06-30  38.633333\n",
      "2022-07-31  49.548387\n",
      "2022-08-31  48.064516\n",
      "2022-09-30  49.233333\n",
      "2022-10-31  42.870968\n",
      "2022-11-30  33.000000\n",
      "2022-12-31  52.709677\n"
     ]
    },
    {
     "name": "stderr",
     "output_type": "stream",
     "text": [
      "C:\\Users\\PMLS\\AppData\\Local\\Temp\\ipykernel_98144\\994453891.py:10: FutureWarning: 'M' is deprecated and will be removed in a future version, please use 'ME' instead.\n",
      "  monthly_mean = df.resample('M').mean()\n"
     ]
    }
   ],
   "source": [
    "# Create a Pandas DataFrame with a datetime index and one column filled with random integers\n",
    "date_rng = pd.date_range(start='2022-01-01', end='2022-12-31', freq='D')\n",
    "df = pd.DataFrame(date_rng, columns=['date'])\n",
    "df['data'] = np.random.randint(0, 100, size=(len(date_rng)))\n",
    "df.set_index('date', inplace=True)\n",
    "print(\"Original DataFrame:\")\n",
    "print(df)\n",
    "\n",
    "# Resample the DataFrame to compute the monthly mean of the values\n",
    "monthly_mean = df.resample('M').mean()\n",
    "print(\"Monthly mean DataFrame:\")\n",
    "print(monthly_mean)"
   ]
  },
  {
   "cell_type": "markdown",
   "metadata": {},
   "source": [
    "2. Create a Pandas DataFrame with a datetime index ranging from '2021-01-01' to '2021-12-31' and one column filled with random integers. Compute the rolling mean with a window of 7 days."
   ]
  },
  {
   "cell_type": "code",
   "execution_count": 12,
   "metadata": {},
   "outputs": [
    {
     "name": "stdout",
     "output_type": "stream",
     "text": [
      "Original DataFrame:\n",
      "            data\n",
      "date            \n",
      "2021-01-01    88\n",
      "2021-01-02    56\n",
      "2021-01-03    18\n",
      "2021-01-04    94\n",
      "2021-01-05    10\n",
      "...          ...\n",
      "2021-12-27    54\n",
      "2021-12-28    52\n",
      "2021-12-29     3\n",
      "2021-12-30    92\n",
      "2021-12-31    59\n",
      "\n",
      "[365 rows x 1 columns]\n",
      "Rolling mean DataFrame:\n",
      "                 data\n",
      "date                 \n",
      "2021-01-01        NaN\n",
      "2021-01-02        NaN\n",
      "2021-01-03        NaN\n",
      "2021-01-04        NaN\n",
      "2021-01-05        NaN\n",
      "...               ...\n",
      "2021-12-27  43.285714\n",
      "2021-12-28  42.857143\n",
      "2021-12-29  40.428571\n",
      "2021-12-30  46.428571\n",
      "2021-12-31  48.714286\n",
      "\n",
      "[365 rows x 1 columns]\n"
     ]
    }
   ],
   "source": [
    "# Create a Pandas DataFrame with a datetime index ranging from '2021-01-01' to '2021-12-31'\n",
    "date_rng = pd.date_range(start='2021-01-01', end='2021-12-31', freq='D')\n",
    "df = pd.DataFrame(date_rng, columns=['date'])\n",
    "df['data'] = np.random.randint(0, 100, size=(len(date_rng)))\n",
    "df.set_index('date', inplace=True)\n",
    "print(\"Original DataFrame:\")\n",
    "print(df)\n",
    "\n",
    "# Compute the rolling mean with a window of 7 days\n",
    "rolling_mean = df.rolling(window=7).mean()\n",
    "print(\"Rolling mean DataFrame:\")\n",
    "print(rolling_mean)"
   ]
  },
  {
   "cell_type": "markdown",
   "metadata": {},
   "source": [
    "### Assignment 7: MultiIndex DataFrame\n",
    "\n",
    "1. Create a Pandas DataFrame with a MultiIndex (hierarchical index). Perform some basic indexing and slicing operations on the MultiIndex DataFrame."
   ]
  },
  {
   "cell_type": "code",
   "execution_count": 13,
   "metadata": {},
   "outputs": [
    {
     "name": "stdout",
     "output_type": "stream",
     "text": [
      "MultiIndex DataFrame:\n",
      "                      Value1  Value2  Value3\n",
      "Category SubCategory                        \n",
      "A        one              34      50       5\n",
      "         two              23      72      25\n",
      "B        one               7      12      58\n",
      "         two               6      11      96\n",
      "Indexing at Category 'A':\n",
      "             Value1  Value2  Value3\n",
      "SubCategory                        \n",
      "one              34      50       5\n",
      "two              23      72      25\n",
      "Slicing at Category 'B' and SubCategory 'two':\n",
      "Value1     6\n",
      "Value2    11\n",
      "Value3    96\n",
      "Name: (B, two), dtype: int32\n"
     ]
    }
   ],
   "source": [
    "# Create a Pandas DataFrame with a MultiIndex (hierarchical index)\n",
    "arrays = [['A', 'A', 'B', 'B'], ['one', 'two', 'one', 'two']]\n",
    "index = pd.MultiIndex.from_arrays(arrays, names=('Category', 'SubCategory'))\n",
    "df = pd.DataFrame(np.random.randint(1, 100, size=(4, 3)), index=index, columns=['Value1', 'Value2', 'Value3'])\n",
    "print(\"MultiIndex DataFrame:\")\n",
    "print(df)\n",
    "\n",
    "# Basic indexing and slicing operations\n",
    "print(\"Indexing at Category 'A':\")\n",
    "print(df.loc['A'])\n",
    "\n",
    "print(\"Slicing at Category 'B' and SubCategory 'two':\")\n",
    "print(df.loc[('B', 'two')])"
   ]
  },
  {
   "cell_type": "markdown",
   "metadata": {},
   "source": [
    "2. Create a Pandas DataFrame with MultiIndex consisting of 'Category' and 'SubCategory'. Fill the DataFrame with random data and compute the sum of values for each 'Category' and 'SubCategory'."
   ]
  },
  {
   "cell_type": "code",
   "execution_count": 14,
   "metadata": {},
   "outputs": [
    {
     "name": "stdout",
     "output_type": "stream",
     "text": [
      "MultiIndex DataFrame:\n",
      "                      Value1  Value2  Value3\n",
      "Category SubCategory                        \n",
      "A        one              78      89      62\n",
      "         two              18       7      85\n",
      "B        one              40      87      84\n",
      "         two              71      46      83\n",
      "C        one              44      41      67\n",
      "         two              71      29      86\n",
      "Sum of values:\n",
      "                      Value1  Value2  Value3\n",
      "Category SubCategory                        \n",
      "A        one              78      89      62\n",
      "         two              18       7      85\n",
      "B        one              40      87      84\n",
      "         two              71      46      83\n",
      "C        one              44      41      67\n",
      "         two              71      29      86\n"
     ]
    }
   ],
   "source": [
    "# Create a Pandas DataFrame with MultiIndex consisting of 'Category' and 'SubCategory'\n",
    "arrays = [['A', 'A', 'B', 'B', 'C', 'C'], ['one', 'two', 'one', 'two', 'one', 'two']]\n",
    "index = pd.MultiIndex.from_arrays(arrays, names=('Category', 'SubCategory'))\n",
    "df = pd.DataFrame(np.random.randint(1, 100, size=(6, 3)), index=index, columns=['Value1', 'Value2', 'Value3'])\n",
    "print(\"MultiIndex DataFrame:\")\n",
    "print(df)\n",
    "\n",
    "# Compute the sum of values for each 'Category' and 'SubCategory'\n",
    "sum_values = df.groupby(['Category', 'SubCategory']).sum()\n",
    "print(\"Sum of values:\")\n",
    "print(sum_values)"
   ]
  },
  {
   "cell_type": "markdown",
   "metadata": {},
   "source": [
    "### Assignment 8: Pivot Tables\n",
    "\n",
    "1. Create a Pandas DataFrame with columns 'Date', 'Category', and 'Value'. Create a pivot table to compute the sum of 'Value' for each 'Category' by 'Date'."
   ]
  },
  {
   "cell_type": "code",
   "execution_count": 15,
   "metadata": {},
   "outputs": [
    {
     "name": "stdout",
     "output_type": "stream",
     "text": [
      "Original DataFrame:\n",
      "         Date Category  Value\n",
      "0  2022-01-03        C     66\n",
      "1  2022-01-10        A     96\n",
      "2  2022-01-10        B     94\n",
      "3  2022-01-09        A     89\n",
      "4  2022-01-08        B     12\n",
      "5  2022-01-06        C     46\n",
      "6  2022-01-04        B     84\n",
      "7  2022-01-04        C     62\n",
      "8  2022-01-08        B     61\n",
      "9  2022-01-01        A     93\n",
      "10 2022-01-09        B     24\n",
      "11 2022-01-06        B     45\n",
      "12 2022-01-07        A      1\n",
      "13 2022-01-03        A     42\n",
      "14 2022-01-02        B     93\n",
      "15 2022-01-03        B     40\n",
      "16 2022-01-09        B      5\n",
      "17 2022-01-04        B     44\n",
      "18 2022-01-09        C     79\n",
      "19 2022-01-03        C     78\n",
      "Pivot Table:\n",
      "Category       A      B      C\n",
      "Date                          \n",
      "2022-01-01  93.0    NaN    NaN\n",
      "2022-01-02   NaN   93.0    NaN\n",
      "2022-01-03  42.0   40.0  144.0\n",
      "2022-01-04   NaN  128.0   62.0\n",
      "2022-01-06   NaN   45.0   46.0\n",
      "2022-01-07   1.0    NaN    NaN\n",
      "2022-01-08   NaN   73.0    NaN\n",
      "2022-01-09  89.0   29.0   79.0\n",
      "2022-01-10  96.0   94.0    NaN\n"
     ]
    }
   ],
   "source": [
    "# Create a Pandas DataFrame with columns 'Date', 'Category', and 'Value'\n",
    "date_rng = pd.date_range(start='2022-01-01', end='2022-01-10', freq='D')\n",
    "df = pd.DataFrame({'Date': np.random.choice(date_rng, size=20), 'Category': np.random.choice(['A', 'B', 'C'], size=20), 'Value': np.random.randint(1, 100, size=20)})\n",
    "print(\"Original DataFrame:\")\n",
    "print(df)\n",
    "\n",
    "# Create a pivot table to compute the sum of 'Value' for each 'Category' by 'Date'\n",
    "pivot_table = df.pivot_table(values='Value', index='Date', columns='Category', aggfunc='sum')\n",
    "print(\"Pivot Table:\")\n",
    "print(pivot_table)"
   ]
  },
  {
   "cell_type": "markdown",
   "metadata": {},
   "source": [
    "2. Create a Pandas DataFrame with columns 'Year', 'Quarter', and 'Revenue'. Create a pivot table to compute the mean 'Revenue' for each 'Quarter' by 'Year'."
   ]
  },
  {
   "cell_type": "code",
   "execution_count": 16,
   "metadata": {},
   "outputs": [
    {
     "name": "stdout",
     "output_type": "stream",
     "text": [
      "Original DataFrame:\n",
      "    Year Quarter  Revenue\n",
      "0   2020      Q3      775\n",
      "1   2020      Q4      155\n",
      "2   2022      Q3      856\n",
      "3   2022      Q2      888\n",
      "4   2020      Q2      956\n",
      "5   2021      Q2      883\n",
      "6   2021      Q2      947\n",
      "7   2020      Q4      294\n",
      "8   2020      Q4      217\n",
      "9   2021      Q4      798\n",
      "10  2020      Q4      503\n",
      "11  2021      Q1      705\n",
      "Pivot Table:\n",
      "Quarter     Q1     Q2     Q3      Q4\n",
      "Year                                \n",
      "2020       NaN  956.0  775.0  292.25\n",
      "2021     705.0  915.0    NaN  798.00\n",
      "2022       NaN  888.0  856.0     NaN\n"
     ]
    }
   ],
   "source": [
    "# Create a Pandas DataFrame with columns 'Year', 'Quarter', and 'Revenue'\n",
    "df = pd.DataFrame({'Year': np.random.choice([2020, 2021, 2022], size=12), 'Quarter': np.random.choice(['Q1', 'Q2', 'Q3', 'Q4'], size=12), 'Revenue': np.random.randint(1, 1000, size=12)})\n",
    "print(\"Original DataFrame:\")\n",
    "print(df)\n",
    "\n",
    "# Create a pivot table to compute the mean 'Revenue' for each 'Quarter' by 'Year'\n",
    "pivot_table = df.pivot_table(values='Revenue', index='Year', columns='Quarter', aggfunc='mean')\n",
    "print(\"Pivot Table:\")\n",
    "print(pivot_table)"
   ]
  },
  {
   "cell_type": "markdown",
   "metadata": {},
   "source": [
    "### Assignment 9: Applying Functions\n",
    "\n",
    "1. Create a Pandas DataFrame with 3 columns and 5 rows filled with random integers. Apply a function that doubles the values of the DataFrame."
   ]
  },
  {
   "cell_type": "code",
   "execution_count": 17,
   "metadata": {},
   "outputs": [
    {
     "name": "stdout",
     "output_type": "stream",
     "text": [
      "Original DataFrame:\n",
      "    A   B   C\n",
      "0  96  23  20\n",
      "1  62  51  60\n",
      "2  37  21  36\n",
      "3   8  62   9\n",
      "4  18  27  46\n",
      "Doubled DataFrame:\n",
      "     A    B    C\n",
      "0  192   46   40\n",
      "1  124  102  120\n",
      "2   74   42   72\n",
      "3   16  124   18\n",
      "4   36   54   92\n"
     ]
    },
    {
     "name": "stderr",
     "output_type": "stream",
     "text": [
      "C:\\Users\\PMLS\\AppData\\Local\\Temp\\ipykernel_98144\\3315638500.py:7: FutureWarning: DataFrame.applymap has been deprecated. Use DataFrame.map instead.\n",
      "  df_doubled = df.applymap(lambda x: x * 2)\n"
     ]
    }
   ],
   "source": [
    "# Create a Pandas DataFrame with 3 columns and 5 rows filled with random integers\n",
    "df = pd.DataFrame(np.random.randint(1, 100, size=(5, 3)), columns=['A', 'B', 'C'])\n",
    "print(\"Original DataFrame:\")\n",
    "print(df)\n",
    "\n",
    "# Apply a function that doubles the values of the DataFrame\n",
    "df_doubled = df.applymap(lambda x: x * 2)\n",
    "print(\"Doubled DataFrame:\")\n",
    "print(df_doubled)"
   ]
  },
  {
   "cell_type": "markdown",
   "metadata": {},
   "source": [
    "2. Create a Pandas DataFrame with 3 columns and 6 rows filled with random integers. Apply a lambda function to create a new column that is the sum of the existing columns."
   ]
  },
  {
   "cell_type": "code",
   "execution_count": 18,
   "metadata": {},
   "outputs": [
    {
     "name": "stdout",
     "output_type": "stream",
     "text": [
      "Original DataFrame:\n",
      "    A   B   C\n",
      "0  12  24  59\n",
      "1  86  65   1\n",
      "2  57   9  96\n",
      "3  12  27  69\n",
      "4  10  90  10\n",
      "5   9  81  84\n",
      "DataFrame with Sum column:\n",
      "    A   B   C  Sum\n",
      "0  12  24  59   95\n",
      "1  86  65   1  152\n",
      "2  57   9  96  162\n",
      "3  12  27  69  108\n",
      "4  10  90  10  110\n",
      "5   9  81  84  174\n"
     ]
    }
   ],
   "source": [
    "# Create a Pandas DataFrame with 3 columns and 6 rows filled with random integers\n",
    "df = pd.DataFrame(np.random.randint(1, 100, size=(6, 3)), columns=['A', 'B', 'C'])\n",
    "print(\"Original DataFrame:\")\n",
    "print(df)\n",
    "\n",
    "# Apply a lambda function to create a new column that is the sum of the existing columns\n",
    "df['Sum'] = df.apply(lambda row: row.sum(), axis=1)\n",
    "print(\"DataFrame with Sum column:\")\n",
    "print(df)"
   ]
  },
  {
   "cell_type": "markdown",
   "metadata": {},
   "source": [
    "### Assignment 10: Working with Text Data\n",
    "\n",
    "1. Create a Pandas Series with 5 random text strings. Convert all the strings to uppercase."
   ]
  },
  {
   "cell_type": "code",
   "execution_count": 19,
   "metadata": {},
   "outputs": [
    {
     "name": "stdout",
     "output_type": "stream",
     "text": [
      "Original Series:\n",
      "0         apple\n",
      "1        banana\n",
      "2        cherry\n",
      "3          date\n",
      "4    elderberry\n",
      "dtype: object\n",
      "Uppercase Series:\n",
      "0         APPLE\n",
      "1        BANANA\n",
      "2        CHERRY\n",
      "3          DATE\n",
      "4    ELDERBERRY\n",
      "dtype: object\n"
     ]
    }
   ],
   "source": [
    "# Create a Pandas Series with 5 random text strings\n",
    "text_data = pd.Series(['apple', 'banana', 'cherry', 'date', 'elderberry'])\n",
    "print(\"Original Series:\")\n",
    "print(text_data)\n",
    "\n",
    "# Convert all the strings to uppercase\n",
    "uppercase_data = text_data.str.upper()\n",
    "print(\"Uppercase Series:\")\n",
    "print(uppercase_data)"
   ]
  },
  {
   "cell_type": "markdown",
   "metadata": {},
   "source": [
    "2. Create a Pandas Series with 5 random text strings. Extract the first three characters of each string."
   ]
  },
  {
   "cell_type": "code",
   "execution_count": 20,
   "metadata": {},
   "outputs": [
    {
     "name": "stdout",
     "output_type": "stream",
     "text": [
      "Original Series:\n",
      "0         apple\n",
      "1        banana\n",
      "2        cherry\n",
      "3          date\n",
      "4    elderberry\n",
      "dtype: object\n",
      "First three characters:\n",
      "0    app\n",
      "1    ban\n",
      "2    che\n",
      "3    dat\n",
      "4    eld\n",
      "dtype: object\n"
     ]
    }
   ],
   "source": [
    "# Create a Pandas Series with 5 random text strings\n",
    "text_data = pd.Series(['apple', 'banana', 'cherry', 'date', 'elderberry'])\n",
    "print(\"Original Series:\")\n",
    "print(text_data)\n",
    "\n",
    "# Extract the first three characters of each string\n",
    "first_three_chars = text_data.str[:3]\n",
    "print(\"First three characters:\")\n",
    "print(first_three_chars)"
   ]
  }
 ],
 "metadata": {
  "kernelspec": {
   "display_name": "Python 3",
   "language": "python",
   "name": "python3"
  },
  "language_info": {
   "codemirror_mode": {
    "name": "ipython",
    "version": 3
   },
   "file_extension": ".py",
   "mimetype": "text/x-python",
   "name": "python",
   "nbconvert_exporter": "python",
   "pygments_lexer": "ipython3",
   "version": "3.12.0"
  }
 },
 "nbformat": 4,
 "nbformat_minor": 5
}
