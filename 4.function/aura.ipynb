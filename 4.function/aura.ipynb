{
 "cells": [
  {
   "cell_type": "code",
   "execution_count": 1,
   "metadata": {},
   "outputs": [],
   "source": [
    "def calculate_aura(age,institute,cgpa):\n",
    "    if age<=25:\n",
    "        if institute==\"GCUF\":\n",
    "            if cgpa>=3:\n",
    "                return 5*3\n",
    "            else:\n",
    "                return 5*2\n",
    "        else:\n",
    "            if cgpa>=3.5:\n",
    "                return 5*3\n",
    "            else:\n",
    "                return 5*2\n",
    "    else:\n",
    "        if institute==\"GCUF\":\n",
    "            if cgpa>=3.5:\n",
    "                return 5*3\n",
    "            else:\n",
    "                return 5*2\n",
    "        else:\n",
    "            if cgpa>=3.5:\n",
    "                return 5*2\n",
    "            else:\n",
    "                return 5*1\n",
    "    \n",
    "        \n",
    "        \n",
    "\n",
    "\n",
    "    \n",
    "    \n",
    "    "
   ]
  },
  {
   "cell_type": "code",
   "execution_count": 3,
   "metadata": {},
   "outputs": [
    {
     "data": {
      "text/plain": [
       "15"
      ]
     },
     "execution_count": 3,
     "metadata": {},
     "output_type": "execute_result"
    }
   ],
   "source": [
    "calculate_aura(20,\"UAF\",3.9)"
   ]
  }
 ],
 "metadata": {
  "kernelspec": {
   "display_name": "venv",
   "language": "python",
   "name": "python3"
  },
  "language_info": {
   "codemirror_mode": {
    "name": "ipython",
    "version": 3
   },
   "file_extension": ".py",
   "mimetype": "text/x-python",
   "name": "python",
   "nbconvert_exporter": "python",
   "pygments_lexer": "ipython3",
   "version": "3.12.0"
  }
 },
 "nbformat": 4,
 "nbformat_minor": 2
}
