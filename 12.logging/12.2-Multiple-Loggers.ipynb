{
 "cells": [
  {
   "cell_type": "code",
   "execution_count": 1,
   "id": "7d508cda",
   "metadata": {},
   "outputs": [],
   "source": [
    "## Multiple Loggers\n",
    "import logging"
   ]
  },
  {
   "cell_type": "code",
   "execution_count": 2,
   "metadata": {},
   "outputs": [],
   "source": [
    "logging.basicConfig(\n",
    "    level=logging.DEBUG,\n",
    "    format= '%(asctime)s-%(name)s-%(levelname)s-%(message)s',\n",
    "    datefmt='%Y-%m-%d %H:%M:%S'\n",
    ")"
   ]
  },
  {
   "cell_type": "code",
   "execution_count": 4,
   "id": "3b55124e",
   "metadata": {},
   "outputs": [],
   "source": [
    "logger2 = logging.getLogger('module2')\n",
    "logger2.setLevel(logging.WARNING)"
   ]
  },
  {
   "cell_type": "code",
   "execution_count": null,
   "id": "53115d41",
   "metadata": {},
   "outputs": [],
   "source": [
    "logger1 = logging.getLogger('module1')\n",
    "logger1.setLevel(logging.DEBUG)\n",
    "\n"
   ]
  },
  {
   "cell_type": "code",
   "execution_count": 5,
   "id": "214f7da8",
   "metadata": {},
   "outputs": [
    {
     "name": "stderr",
     "output_type": "stream",
     "text": [
      "2025-04-18 20:56:49-module1-DEBUG-This is a debug message\n",
      "2025-04-18 20:56:49-module2-WARNING-This is a warning message\n",
      "2025-04-18 20:56:49-module2-ERROR-This is an error message\n",
      "2025-04-18 20:56:49-module1-ERROR-This is an error message\n"
     ]
    }
   ],
   "source": [
    "logger1.debug(\"This is a debug message\")\n",
    "logger2.warning(\"This is a warning message\")\n",
    "logger2.error(\"This is an error message\")\n",
    "logger1.error(\"This is an error message\")"
   ]
  },
  {
   "cell_type": "code",
   "execution_count": null,
   "id": "28c3fbf2",
   "metadata": {},
   "outputs": [],
   "source": []
  },
  {
   "cell_type": "code",
   "execution_count": null,
   "id": "12a2faa8",
   "metadata": {},
   "outputs": [],
   "source": []
  }
 ],
 "metadata": {
  "kernelspec": {
   "display_name": "Python 3",
   "language": "python",
   "name": "python3"
  },
  "language_info": {
   "codemirror_mode": {
    "name": "ipython",
    "version": 3
   },
   "file_extension": ".py",
   "mimetype": "text/x-python",
   "name": "python",
   "nbconvert_exporter": "python",
   "pygments_lexer": "ipython3",
   "version": "3.12.0"
  }
 },
 "nbformat": 4,
 "nbformat_minor": 5
}
